{
  "nbformat": 4,
  "nbformat_minor": 0,
  "metadata": {
    "colab": {
      "name": "EfficientNet/CarBrand/NCTU.ipynb",
      "provenance": [],
      "collapsed_sections": []
    },
    "kernelspec": {
      "name": "python3",
      "display_name": "Python 3"
    },
    "accelerator": "GPU"
  },
  "cells": [
    {
      "cell_type": "markdown",
      "metadata": {
        "id": "fYS6ah-h8HWD"
      },
      "source": [
        "## Requirement if needed\n"
      ]
    },
    {
      "cell_type": "code",
      "metadata": {
        "id": "0GonXjlZSBaO"
      },
      "source": [
        "# Mount cloud\n",
        "from google.colab import drive\n",
        "drive.mount('/content/drive')"
      ],
      "execution_count": null,
      "outputs": []
    },
    {
      "cell_type": "code",
      "metadata": {
        "id": "MwTR3ivVW4m8"
      },
      "source": [
        "#! pip install gdown"
      ],
      "execution_count": null,
      "outputs": []
    },
    {
      "cell_type": "code",
      "metadata": {
        "id": "nGa-22w-XdCt"
      },
      "source": [
        "#! gdown https://drive.google.com/uc?id=<SHARE_URL>"
      ],
      "execution_count": null,
      "outputs": []
    },
    {
      "cell_type": "code",
      "metadata": {
        "id": "Qp1eVRvCZYUx"
      },
      "source": [
        "#! unzip FILE_PATH"
      ],
      "execution_count": null,
      "outputs": []
    },
    {
      "cell_type": "code",
      "metadata": {
        "id": "UPJANj_Lv0H0"
      },
      "source": [
        "#! pip install cloud-tpu-client==0.10 https://storage.googleapis.com/tpu-pytorch/wheels/torch_xla-1.7-cp36-cp36m-linux_x86_64.whl"
      ],
      "execution_count": null,
      "outputs": []
    },
    {
      "cell_type": "code",
      "metadata": {
        "id": "5tD94G4kwC12"
      },
      "source": [
        "#import torch_xla.core.xla_model as xm"
      ],
      "execution_count": null,
      "outputs": []
    },
    {
      "cell_type": "markdown",
      "metadata": {
        "id": "7Jact2aQ7-3r"
      },
      "source": [
        "## Dataset"
      ]
    },
    {
      "cell_type": "code",
      "metadata": {
        "id": "2n73Y9u_WWX6"
      },
      "source": [
        "from __future__ import print_function, division\n",
        "\n",
        "import torch\n",
        "import torch.nn as nn\n",
        "import torch.optim as optim\n",
        "from torch.optim import lr_scheduler\n",
        "import numpy as np\n",
        "import torchvision\n",
        "from torchvision import datasets, models, transforms\n",
        "import matplotlib.pyplot as plt\n",
        "import time\n",
        "import os\n",
        "import copy\n",
        "\n",
        "plt.ion()   # Interactive mode"
      ],
      "execution_count": null,
      "outputs": []
    },
    {
      "cell_type": "code",
      "metadata": {
        "id": "cLawgoCzX222"
      },
      "source": [
        "from torch.utils.data import Dataset, DataLoader\n",
        "from skimage import io\n",
        "\n",
        "class CarDataset(Dataset):\n",
        "    def __init__(self, dataframe, data_dir, transform=None):\n",
        "        self.dataframe = dataframe\n",
        "        self.data_dir = data_dir\n",
        "        self.transform = transform\n",
        "    \n",
        "    def __len__(self):\n",
        "        return len(self.dataframe)\n",
        "    \n",
        "    def __getitem__(self, idx):\n",
        "        if torch.is_tensor(idx):\n",
        "            idx = idx.tolist()\n",
        "\n",
        "        img_path = os.path.join(self.data_dir,\n",
        "                                self.dataframe.iloc[idx, 0] + '.jpg')\n",
        "        data = io.imread(img_path)\n",
        "        if data.ndim == 2:\n",
        "            data = np.asarray([data] * 3)\n",
        "            data = np.transpose(data, (1, 2, 0))\n",
        "        target = self.dataframe.iloc[idx, 1]\n",
        "        sample = {'data': data, 'target': target}\n",
        "\n",
        "        if self.transform:\n",
        "            sample['data'] = self.transform(sample['data'])\n",
        "\n",
        "        return sample"
      ],
      "execution_count": null,
      "outputs": []
    },
    {
      "cell_type": "code",
      "metadata": {
        "id": "L2NIaWfyWkjR"
      },
      "source": [
        "data_transforms = {\n",
        "    'train': transforms.Compose([\n",
        "        transforms.ToPILImage(),\n",
        "        transforms.RandomResizedCrop(224),\n",
        "        transforms.RandomHorizontalFlip(),\n",
        "        transforms.ToTensor(),\n",
        "        transforms.Normalize([0.449, 0.434, 0.433], [0.282, 0.281, 0.286])\n",
        "    ]),\n",
        "    'val': transforms.Compose([\n",
        "        transforms.ToPILImage(),\n",
        "        transforms.Resize(256),\n",
        "        transforms.CenterCrop(224),\n",
        "        transforms.ToTensor(),\n",
        "        transforms.Normalize([0.449, 0.434, 0.433], [0.282, 0.281, 0.286])\n",
        "    ]),\n",
        "}"
      ],
      "execution_count": null,
      "outputs": []
    },
    {
      "cell_type": "code",
      "metadata": {
        "id": "Wq22SO2bZkTm"
      },
      "source": [
        "CSV_FILE = './training_labels.csv'\n",
        "TRAINING_DIR = './training_data/training_data/'\n",
        "TESTING_DIR = './testing_data/testing_data/'"
      ],
      "execution_count": null,
      "outputs": []
    },
    {
      "cell_type": "code",
      "metadata": {
        "id": "o6vmU_Nqagsf"
      },
      "source": [
        "import pandas as pd\n",
        "\n",
        "df = pd.read_csv(CSV_FILE, dtype=str)\n",
        "#CAR_LABELS = list(set(df['label'])) # list(set()) is device/seed dependant\n",
        "CAR_LABELS = ['Mercedes-Benz S-Class Sedan 2012', 'smart fortwo Convertible 2012', 'Acura TL Sedan 2012', 'Chevrolet Silverado 1500 Classic Extended Cab 2007', 'GMC Terrain SUV 2012', 'Dodge Durango SUV 2007', 'Acura ZDX Hatchback 2012', 'Cadillac SRX SUV 2012', 'Dodge Journey SUV 2012', 'Tesla Model S Sedan 2012', 'Ferrari 458 Italia Coupe 2012', 'Chevrolet Corvette ZR1 2012', 'Volvo C30 Hatchback 2012', 'BMW M3 Coupe 2012', 'Audi S6 Sedan 2011', 'Lamborghini Reventon Coupe 2008', 'Dodge Dakota Club Cab 2007', 'Aston Martin V8 Vantage Coupe 2012', 'Chevrolet Silverado 1500 Hybrid Crew Cab 2012', 'Audi 100 Sedan 1994', 'Chevrolet Sonic Sedan 2012', 'Buick Verano Sedan 2012', 'Hyundai Veracruz SUV 2012', 'BMW Z4 Convertible 2012', 'Hyundai Santa Fe SUV 2012', 'BMW 1 Series Convertible 2012', 'Chrysler PT Cruiser Convertible 2008', 'Nissan NV Passenger Van 2012', 'BMW 1 Series Coupe 2012', 'Chevrolet Camaro Convertible 2012', 'Bentley Continental Flying Spur Sedan 2007', 'Bentley Mulsanne Sedan 2011', 'Ford F-150 Regular Cab 2012', 'Aston Martin Virage Convertible 2012', 'Ford E-Series Wagon Van 2012', 'Nissan Leaf Hatchback 2012', 'Audi S4 Sedan 2012', 'Spyker C8 Convertible 2009', 'GMC Savana Van 2012', 'Dodge Caliber Wagon 2007', 'Audi TT RS Coupe 2012', 'Acura TSX Sedan 2012', 'Hyundai Sonata Sedan 2012', 'Buick Regal GS 2012', 'Ford Edge SUV 2012', 'Volkswagen Golf Hatchback 1991', 'Honda Odyssey Minivan 2007', 'GMC Canyon Extended Cab 2012', 'Hyundai Accent Sedan 2012', 'Chevrolet Corvette Ron Fellows Edition Z06 2007', 'Plymouth Neon Coupe 1999', 'Lamborghini Gallardo LP 570-4 Superleggera 2012', 'Rolls-Royce Phantom Drophead Coupe Convertible 2012', 'Volvo XC90 SUV 2007', 'Audi S4 Sedan 2007', 'Chevrolet Express Cargo Van 2007', 'Dodge Magnum Wagon 2008', 'BMW 3 Series Wagon 2012', 'Rolls-Royce Ghost Sedan 2012', 'Audi TTS Coupe 2012', 'Honda Accord Coupe 2012', 'Suzuki SX4 Hatchback 2012', 'Chevrolet Express Van 2007', 'Chevrolet Monte Carlo Coupe 2007', 'Isuzu Ascender SUV 2008', 'Rolls-Royce Phantom Sedan 2012', 'Audi RS 4 Convertible 2008', 'Infiniti G Coupe IPL 2012', 'Volvo 240 Sedan 1993', 'Bentley Continental GT Coupe 2007', 'GMC Acadia SUV 2012', 'Chevrolet Tahoe Hybrid SUV 2012', 'Fisker Karma Sedan 2012', 'Ford Freestar Minivan 2007', 'Lamborghini Diablo Coupe 2001', 'Bentley Arnage Sedan 2009', 'Volkswagen Golf Hatchback 2012', 'Chevrolet Silverado 1500 Extended Cab 2012', 'Dodge Ram Pickup 3500 Quad Cab 2009', 'Ford F-150 Regular Cab 2007', 'Dodge Caliber Wagon 2012', 'Suzuki SX4 Sedan 2012', 'Ford Expedition EL SUV 2009', 'Chevrolet Corvette Convertible 2012', 'Jeep Wrangler SUV 2012', 'BMW X5 SUV 2007', 'Suzuki Kizashi Sedan 2012', 'Toyota Sequoia SUV 2012', 'BMW M6 Convertible 2010', 'Mazda Tribute SUV 2011', 'Hyundai Sonata Hybrid Sedan 2012', 'Bentley Continental GT Coupe 2012', 'Ram C/V Cargo Van Minivan 2012', 'AM General Hummer SUV 2000', 'Cadillac Escalade EXT Crew Cab 2007', 'Land Rover LR2 SUV 2012', 'Lamborghini Aventador Coupe 2012', 'Jeep Compass SUV 2012', 'Volkswagen Beetle Hatchback 2012', 'Ford Mustang Convertible 2007', 'Honda Accord Sedan 2012', 'Ferrari FF Coupe 2012', 'Jeep Patriot SUV 2012', 'Buick Rainier SUV 2007', 'Chrysler Sebring Convertible 2010', 'Chrysler Aspen SUV 2009', 'Toyota Camry Sedan 2012', 'Dodge Charger SRT-8 2009', 'Audi R8 Coupe 2012', 'Lincoln Town Car Sedan 2011', 'Ford Ranger SuperCab 2011', 'Suzuki Aerio Sedan 2007', 'Toyota 4Runner SUV 2012', 'Jaguar XK XKR 2012', 'Eagle Talon Hatchback 1998', 'Bentley Continental Supersports Conv. Convertible 2012', 'Nissan Juke Hatchback 2012', 'MINI Cooper Roadster Convertible 2012', 'Scion xD Hatchback 2012', 'Acura RL Sedan 2012', 'HUMMER H2 SUT Crew Cab 2009', 'Dodge Durango SUV 2012', 'Audi A5 Coupe 2012', 'Chevrolet Traverse SUV 2012', 'Porsche Panamera Sedan 2012', 'Dodge Charger Sedan 2012', 'BMW 3 Series Sedan 2012', 'BMW X6 SUV 2012', 'Hyundai Veloster Hatchback 2012', 'Dodge Caravan Minivan 1997', 'Mercedes-Benz SL-Class Coupe 2009', 'Hyundai Tucson SUV 2012', 'Mercedes-Benz C-Class Sedan 2012', 'Dodge Ram Pickup 3500 Crew Cab 2010', 'Chevrolet Silverado 1500 Regular Cab 2012', 'Bugatti Veyron 16.4 Convertible 2009', 'Chevrolet Malibu Hybrid Sedan 2010', 'Buick Enclave SUV 2012', 'Chrysler 300 SRT-8 2010', 'Chrysler Town and Country Minivan 2012', 'Dodge Challenger SRT8 2011', 'Chevrolet Cobalt SS 2010', 'Aston Martin V8 Vantage Convertible 2012', 'Infiniti QX56 SUV 2011', 'Ford F-450 Super Duty Crew Cab 2012', 'Hyundai Genesis Sedan 2012', 'Mercedes-Benz E-Class Sedan 2012', 'Mercedes-Benz 300-Class Convertible 1993', 'Honda Odyssey Minivan 2012', 'Geo Metro Convertible 1993', 'Audi TT Hatchback 2011', 'Chrysler Crossfire Convertible 2008', 'BMW ActiveHybrid 5 Sedan 2012', 'Hyundai Azera Sedan 2012', 'Audi S5 Coupe 2012', 'Chevrolet Avalanche Crew Cab 2012', 'Hyundai Elantra Touring Hatchback 2012', 'Dodge Sprinter Cargo Van 2009', 'Ford Fiesta Sedan 2012', 'BMW X3 SUV 2012', 'Chevrolet HHR SS 2010', 'BMW M5 Sedan 2010', 'Chevrolet Silverado 2500HD Regular Cab 2012', 'Chevrolet Malibu Sedan 2007', 'Acura Integra Type R 2001', 'FIAT 500 Convertible 2012', 'Toyota Corolla Sedan 2012', 'Audi S5 Convertible 2012', 'GMC Yukon Hybrid SUV 2012', 'Daewoo Nubira Wagon 2002', 'Chevrolet Impala Sedan 2007', 'Jeep Liberty SUV 2012', 'Spyker C8 Coupe 2009', 'Acura TL Type-S 2008', 'Mercedes-Benz Sprinter Van 2012', 'McLaren MP4-12C Coupe 2012', 'Jeep Grand Cherokee SUV 2012', 'BMW 6 Series Convertible 2007', 'Ford Focus Sedan 2007', 'Cadillac CTS-V Sedan 2012', 'HUMMER H3T Crew Cab 2010', 'Bugatti Veyron 16.4 Coupe 2009', 'Mitsubishi Lancer Sedan 2012', 'Audi 100 Wagon 1994', 'Nissan 240SX Coupe 1998', 'Maybach Landaulet Convertible 2012', 'Aston Martin Virage Coupe 2012', 'Audi V8 Sedan 1994', 'Land Rover Range Rover SUV 2012', 'Ferrari California Convertible 2012', 'Ferrari 458 Italia Convertible 2012', 'Hyundai Elantra Sedan 2007', 'Chevrolet TrailBlazer SS 2009', 'FIAT 500 Abarth 2012', 'Ford GT Coupe 2006', 'Dodge Dakota Crew Cab 2010']\n",
        "LABEL_IDX_DICT = {label: idx for idx, label in enumerate(CAR_LABELS)}\n",
        "print(len(CAR_LABELS), len(LABEL_IDX_DICT))\n",
        "df.head()"
      ],
      "execution_count": null,
      "outputs": []
    },
    {
      "cell_type": "code",
      "metadata": {
        "id": "-SvYQJwSbZdb"
      },
      "source": [
        "def train_val_dataframe(dataframe, val_rate=0.2):\n",
        "    num_sample = len(dataframe)\n",
        "    msk = np.random.permutation(num_sample) < num_sample * val_rate\n",
        "    val_df = dataframe[msk]\n",
        "    train_df = dataframe[~msk]\n",
        "    return train_df, val_df\n",
        "\n",
        "df = pd.read_csv(CSV_FILE, dtype=str)\n",
        "# Change class to corresponding indices\n",
        "for idx, label in enumerate(df['label']):\n",
        "    df.iloc[idx, 1] = LABEL_IDX_DICT[label]\n",
        "df['label'] = df['label'].astype(int)\n",
        "\n",
        "train_df, val_df = train_val_dataframe(df)\n",
        "print(train_df.shape, val_df.shape)\n",
        "print(train_df.dtypes, val_df.dtypes)"
      ],
      "execution_count": null,
      "outputs": []
    },
    {
      "cell_type": "code",
      "metadata": {
        "id": "R8v7Nf7ne7nq"
      },
      "source": [
        "FLAGS = {}\n",
        "FLAGS['batch_size'] = 64\n",
        "FLAGS['num_workers'] = 0\n",
        "FLAGS['learning_rate'] = 0.02\n",
        "FLAGS['momentum'] = 0.9\n",
        "FLAGS['num_epochs'] = 30"
      ],
      "execution_count": null,
      "outputs": []
    },
    {
      "cell_type": "code",
      "metadata": {
        "id": "cH4RfEa5X2ir"
      },
      "source": [
        "image_datasets = {\n",
        "    'train': CarDataset(train_df, TRAINING_DIR,\n",
        "                        data_transforms['train']),\n",
        "    'val': CarDataset(val_df, TRAINING_DIR,\n",
        "                      data_transforms['val'])\n",
        "}\n",
        "dataloaders = {\n",
        "    'train': DataLoader(image_datasets['train'],\n",
        "                        batch_size=FLAGS['batch_size'],\n",
        "                        shuffle=True,\n",
        "                        num_workers=FLAGS['num_workers'],\n",
        "                        drop_last=True),\n",
        "    'val': DataLoader(image_datasets['val'],\n",
        "                        batch_size=FLAGS['batch_size'],\n",
        "                        shuffle=False,\n",
        "                        num_workers=FLAGS['num_workers'],\n",
        "                        drop_last=True),\n",
        "}\n",
        "dataset_sizes = {x: len(image_datasets[x]) for x in ['train', 'val']}"
      ],
      "execution_count": null,
      "outputs": []
    },
    {
      "cell_type": "code",
      "metadata": {
        "id": "61WU56Tbfg-h"
      },
      "source": [
        "def imshow(inp, title=None):\n",
        "    inp = inp.numpy().transpose((1, 2, 0))\n",
        "    mean = np.asarray([0.449, 0.434, 0.433])\n",
        "    std = np.asarray([0.282, 0.281, 0.286])\n",
        "    inp = inp * std + mean\n",
        "    inp = np.clip(inp, 0, 1)\n",
        "    plt.imshow(inp)\n",
        "    if title is not None:\n",
        "        plt.title(title)\n",
        "    plt.pause(0.001)\n",
        "\n",
        "samples = next(iter(dataloaders['train']))\n",
        "inputs, classes = samples['data'], samples['target']\n",
        "out = torchvision.utils.make_grid(inputs)\n",
        "\n",
        "imshow(out)"
      ],
      "execution_count": null,
      "outputs": []
    },
    {
      "cell_type": "markdown",
      "metadata": {
        "id": "k9Zrhd1Lhq5g"
      },
      "source": [
        "## Train model"
      ]
    },
    {
      "cell_type": "code",
      "metadata": {
        "id": "32bZrYSRgnqL"
      },
      "source": [
        "device = torch.device(\"cuda:0\" if torch.cuda.is_available() else \"cpu\")\n",
        "#device = xm.xla_device()\n",
        "print(device)"
      ],
      "execution_count": null,
      "outputs": []
    },
    {
      "cell_type": "code",
      "metadata": {
        "id": "wEwsJgJ8hpV6"
      },
      "source": [
        "def train_model(model, criterion, optimizer, num_epochs=25, start=0, scheduler=None):\n",
        "    since = time.time()\n",
        "\n",
        "    best_model_wts = copy.deepcopy(model.state_dict())\n",
        "    best_acc = 0.0\n",
        "\n",
        "    for epoch in range(num_epochs):\n",
        "        print('Epoch {}/{}'.format(start + epoch + 1, start + num_epochs))\n",
        "        print('-' * 10)\n",
        "\n",
        "        # Each epoch has a training and validation phase\n",
        "        for phase in ['train', 'val']:\n",
        "            if phase == 'train':\n",
        "                model.train()  # Set model to training mode\n",
        "            else:\n",
        "                model.eval()   # Set model to evaluate mode\n",
        "\n",
        "            running_loss = 0.0\n",
        "            running_corrects = 0\n",
        "\n",
        "            # Iterate over data\n",
        "            for x, samples in enumerate(dataloaders[phase]):\n",
        "                print('Batch #{:<4d}'.format(x + 1))\n",
        "                inputs, labels = samples['data'], samples['target']\n",
        "                inputs = inputs.to(device)\n",
        "                labels = labels.to(device)\n",
        "\n",
        "                # zero the parameter gradients\n",
        "                optimizer.zero_grad()\n",
        "\n",
        "                # forward\n",
        "                # Track history if only in train\n",
        "                with torch.set_grad_enabled(phase == 'train'):\n",
        "                    outputs = model(inputs)\n",
        "                    _, preds = torch.max(outputs, 1)\n",
        "                    loss = criterion(outputs, labels.long())\n",
        "\n",
        "                    # backward + optimize only if in training phase\n",
        "                    if phase == 'train':\n",
        "                        loss.backward()\n",
        "                        optimizer.step()\n",
        "\n",
        "                # Statistics\n",
        "                running_loss += loss.item() * inputs.size(0)\n",
        "                running_corrects += torch.sum(preds == labels.data)\n",
        "            if scheduler is not None and phase == 'train':\n",
        "                scheduler.step()\n",
        "\n",
        "            epoch_loss = running_loss / dataset_sizes[phase]\n",
        "            epoch_acc = running_corrects.double() / dataset_sizes[phase]\n",
        "\n",
        "            print('{} Loss: {:.4f} Acc: {:.4f} Duration: {} s'.format(\n",
        "                phase, epoch_loss, epoch_acc, time.time() - since))\n",
        "\n",
        "            # deep copy the model\n",
        "            if phase == 'val' and epoch_acc > best_acc:\n",
        "                best_acc = epoch_acc\n",
        "                best_model_wts = copy.deepcopy(model.state_dict())\n",
        "                torch.save({\n",
        "                    'name': 'efficientnet-b0',\n",
        "                    'epoch': start + epoch + 1,\n",
        "                    'model_state_dict': best_model_wts,\n",
        "                    'optimizer_state_dict': optimizer.state_dict()\n",
        "                }, './drive/My Drive/best_ckpt_' + str(start + epoch + 1) + 'epoch.pt')\n",
        "\n",
        "        print()\n",
        "\n",
        "    time_elapsed = time.time() - since\n",
        "    print('Training complete in {:.0f}m {:.0f}s'.format(\n",
        "        time_elapsed // 60, time_elapsed % 60))\n",
        "    print('Best val Acc: {:4f}'.format(best_acc))\n",
        "\n",
        "    # Load best model weights (need?)\n",
        "    #model.load_state_dict(best_model_wts)\n",
        "    return model"
      ],
      "execution_count": null,
      "outputs": []
    },
    {
      "cell_type": "code",
      "metadata": {
        "id": "GpCVq-HCihgF"
      },
      "source": [
        "def visualize_model(model, num_images=6):\n",
        "    was_training = model.training\n",
        "    model.eval()\n",
        "    images_so_far = 0\n",
        "    fig = plt.figure()\n",
        "\n",
        "    with torch.no_grad():\n",
        "        for i, samples in enumerate(dataloaders['val']):\n",
        "            inputs, labels = samples['data'], samples['target']\n",
        "            inputs = inputs.to(device)\n",
        "            labels = labels.to(device)\n",
        "\n",
        "            outputs = model(inputs)\n",
        "            _, preds = torch.max(outputs, 1)\n",
        "\n",
        "            for j in range(inputs.size()[0]):\n",
        "                images_so_far += 1\n",
        "                ax = plt.subplot(num_images//2, 2, images_so_far)\n",
        "                ax.axis('off')\n",
        "                ax.set_title('predicted: {}'.format(CAR_LABELS[preds[j]]))\n",
        "                imshow(inputs.cpu().data[j])\n",
        "\n",
        "                if images_so_far == num_images:\n",
        "                    model.train(mode=was_training)\n",
        "                    return\n",
        "        model.train(mode=was_training)"
      ],
      "execution_count": null,
      "outputs": []
    },
    {
      "cell_type": "markdown",
      "metadata": {
        "id": "d-QqoKtIjGVh"
      },
      "source": [
        "### Finetune"
      ]
    },
    {
      "cell_type": "code",
      "metadata": {
        "id": "YWhaMIz9baXi"
      },
      "source": [
        "#! pip install efficientnet_pytorch"
      ],
      "execution_count": null,
      "outputs": []
    },
    {
      "cell_type": "code",
      "metadata": {
        "id": "SGFPbf3cbgCT"
      },
      "source": [
        "from efficientnet_pytorch import EfficientNet"
      ],
      "execution_count": null,
      "outputs": []
    },
    {
      "cell_type": "code",
      "metadata": {
        "id": "26qeaumnb0aM"
      },
      "source": [
        "model_ft = EfficientNet.from_pretrained('efficientnet-b0')\n",
        "#model_ft = models.resnet50(pretrained=True)\n",
        "# Whether to freeze layers\n",
        "for param in model_ft.parameters():\n",
        "    param.requires_grad = True"
      ],
      "execution_count": null,
      "outputs": []
    },
    {
      "cell_type": "code",
      "metadata": {
        "id": "Ji8bwum7cTMR"
      },
      "source": [
        "num_ftrs = model_ft._fc.in_features\n",
        "model_ft._fc = nn.Linear(num_ftrs, len(CAR_LABELS))\n",
        "\n",
        "#num_ftrs = model_ft.fc.in_features\n",
        "#model_ft.fc = nn.Linear(num_ftrs, len(CAR_LABELS))\n",
        "\n",
        "model_ft = model_ft.to(device)\n",
        "criterion = nn.CrossEntropyLoss()\n",
        "optimizer_ft = optim.Adam(model_ft.parameters())"
      ],
      "execution_count": null,
      "outputs": []
    },
    {
      "cell_type": "code",
      "metadata": {
        "id": "gmIXcLdcdrZF"
      },
      "source": [
        "model_ft = train_model(model_ft, criterion, optimizer_ft, num_epochs=2, start=30)"
      ],
      "execution_count": null,
      "outputs": []
    },
    {
      "cell_type": "code",
      "metadata": {
        "id": "cDQMgs7jjzyx"
      },
      "source": [
        "visualize_model(model_ft)"
      ],
      "execution_count": null,
      "outputs": []
    },
    {
      "cell_type": "markdown",
      "metadata": {
        "id": "YfHBJY6W7b8G"
      },
      "source": [
        "## Apply on test dataset"
      ]
    },
    {
      "cell_type": "code",
      "metadata": {
        "id": "Iu0jQAEYPxCO"
      },
      "source": [
        "def get_prediction(model, transform, data_dir):\n",
        "    result = {}\n",
        "    model.eval()\n",
        "    with torch.no_grad():\n",
        "        for x, name in enumerate(os.listdir(data_dir)):\n",
        "            img_path = os.path.join(data_dir, name)\n",
        "            data = io.imread(img_path)\n",
        "            if data.ndim == 2:\n",
        "                data = np.asarray([data] * 3)\n",
        "                data = np.transpose(data, (1, 2, 0))\n",
        "            input = transform(data).to(device)\n",
        "            input = input.unsqueeze(0)\n",
        "            output = model(input)\n",
        "            _, pred = torch.max(output, 1)\n",
        "            result[name[:6]] = CAR_LABELS[pred]\n",
        "            print('{:<15}{}'.format(name[:6], CAR_LABELS[pred]))\n",
        "\n",
        "    return result"
      ],
      "execution_count": null,
      "outputs": []
    },
    {
      "cell_type": "code",
      "metadata": {
        "id": "yhYtu59xRVpH"
      },
      "source": [
        "test_transform = transforms.Compose([\n",
        "    transforms.ToPILImage(),\n",
        "    transforms.Resize(400), # Use higher resolution\n",
        "    transforms.CenterCrop(368),\n",
        "    transforms.ToTensor(),\n",
        "    transforms.Normalize([0.449, 0.434, 0.433], [0.282, 0.281, 0.286])\n",
        "])\n",
        "\n",
        "#CKPT_PATH = './checkpoint.pt'\n",
        "#checkpoint = torch.load(CKPT_PATH['model_state_dict'])\n",
        "model_ft.load_state_dict()\n",
        "prediction = get_prediction(model_ft, test_transform, TESTING_DIR)"
      ],
      "execution_count": null,
      "outputs": []
    },
    {
      "cell_type": "code",
      "metadata": {
        "id": "bUvwJWXmWBtn"
      },
      "source": [
        "d = {'id': list(prediction.keys()), 'label': list(prediction.values())}\n",
        "df = pd.DataFrame(data=d)\n",
        "df.head()"
      ],
      "execution_count": null,
      "outputs": []
    },
    {
      "cell_type": "code",
      "metadata": {
        "id": "OegTTHDUzsOo"
      },
      "source": [
        "# Save prediction to csv file\n",
        "PREDICT_PATH = './prediction.csv'\n",
        "df.to_csv(PREDICT_PATH, index=False)"
      ],
      "execution_count": null,
      "outputs": []
    },
    {
      "cell_type": "code",
      "metadata": {
        "id": "gYWnrBx1z53J"
      },
      "source": [
        ""
      ],
      "execution_count": null,
      "outputs": []
    }
  ]
}